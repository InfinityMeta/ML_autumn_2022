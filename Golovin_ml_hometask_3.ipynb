{
 "cells": [
  {
   "cell_type": "markdown",
   "id": "5b5a0fcf",
   "metadata": {},
   "source": [
    "### Посмотрим на данные"
   ]
  },
  {
   "cell_type": "code",
   "execution_count": 4,
   "id": "1fde5716",
   "metadata": {
    "execution": {
     "iopub.execute_input": "2023-01-19T09:48:21.729691Z",
     "iopub.status.busy": "2023-01-19T09:48:21.729329Z",
     "iopub.status.idle": "2023-01-19T09:48:21.736062Z",
     "shell.execute_reply": "2023-01-19T09:48:21.734761Z",
     "shell.execute_reply.started": "2023-01-19T09:48:21.729659Z"
    }
   },
   "outputs": [],
   "source": [
    "import numpy as np\n",
    "import torch\n",
    "import os\n",
    "import segmentation_models_pytorch as smp\n",
    "import matplotlib.pyplot as plt\n",
    "import torch.nn.functional as F\n",
    "from PIL import Image\n",
    "from torch.utils.data import Dataset, DataLoader\n",
    "from torchvision import transforms\n",
    "from torch.nn import CrossEntropyLoss\n",
    "from tqdm import tqdm\n",
    "from segmentation_models_pytorch.base import SegmentationHead"
   ]
  },
  {
   "cell_type": "code",
   "execution_count": 85,
   "id": "102efc34",
   "metadata": {
    "execution": {
     "iopub.execute_input": "2023-01-19T11:17:28.477089Z",
     "iopub.status.busy": "2023-01-19T11:17:28.476644Z",
     "iopub.status.idle": "2023-01-19T11:17:28.486408Z",
     "shell.execute_reply": "2023-01-19T11:17:28.485395Z",
     "shell.execute_reply.started": "2023-01-19T11:17:28.477054Z"
    }
   },
   "outputs": [],
   "source": [
    "original_images_path : str = \"/kaggle/input/semantic-drone-dataset/dataset/semantic_drone_dataset/original_images\"\n",
    "images_semantic_path : str = \"/kaggle/input/semantic-drone-dataset/dataset/semantic_drone_dataset/label_images_semantic\"\n",
    "        \n",
    "need_dataset_size : int = 64 # сократил размер датасета, чтобы модель быстрее обучалась\n",
    "num_of_classes : int = 23\n",
    "train_batch_size : int = 16\n",
    "valid_batch_size : int = 8\n",
    "epoch_count : int = 10\n",
    "early_stopping_patience : int = 3\n",
    "\n",
    "val_rate : float = 0.25\n",
    "learning_rate : float = 0.01\n",
    "    \n",
    "imgs_size : tuple = (512,512)"
   ]
  },
  {
   "cell_type": "markdown",
   "id": "955bd347",
   "metadata": {},
   "source": [
    "### Создадим датасет"
   ]
  },
  {
   "cell_type": "code",
   "execution_count": 86,
   "id": "e1b9d6ce",
   "metadata": {
    "execution": {
     "iopub.execute_input": "2023-01-19T11:17:30.570974Z",
     "iopub.status.busy": "2023-01-19T11:17:30.570567Z",
     "iopub.status.idle": "2023-01-19T11:17:30.583899Z",
     "shell.execute_reply": "2023-01-19T11:17:30.582398Z",
     "shell.execute_reply.started": "2023-01-19T11:17:30.570941Z"
    }
   },
   "outputs": [],
   "source": [
    "class SegmentationDataset(Dataset):\n",
    "    \n",
    "    def __init__(self, imgs_dir, masks_dir, dataset_type='train', val_rate=val_rate, imgs_size=imgs_size):\n",
    "        self.imgs_size = imgs_size\n",
    "        self.imgs_dir = imgs_dir\n",
    "        self.masks_dir = masks_dir\n",
    "        \n",
    "        imgs_paths = os.listdir(self.imgs_dir)\n",
    "        masks_paths = os.listdir(self.masks_dir)\n",
    "        \n",
    "        #train_size = round(len(imgs_paths) * (1-val_rate))\n",
    "        \n",
    "        train_size = round(need_dataset_size * (1-val_rate))\n",
    "        \n",
    "        if dataset_type == 'train':\n",
    "            self.imgs_paths = imgs_paths[:train_size]\n",
    "            self.masks_paths = masks_paths[:train_size]\n",
    "            \n",
    "        elif dataset_type == 'validation':\n",
    "            self.imgs_paths = imgs_paths[train_size:need_dataset_size]\n",
    "            self.masks_paths = masks_paths[train_size:need_dataset_size]\n",
    "            \n",
    "        self.imgs_paths.sort()\n",
    "        self.masks_paths.sort()\n",
    "        \n",
    "    def __len__(self):\n",
    "        return len(self.imgs_paths)\n",
    "    \n",
    "    def __getitem__(self, idx):\n",
    "        img = Image.open(os.path.join(self.imgs_dir, self.imgs_paths[idx]))\n",
    "        mask = Image.open(os.path.join(self.masks_dir, self.masks_paths[idx])).convert('L')\n",
    "        \n",
    "        transform = transforms.Compose([\n",
    "            transforms.Resize(self.imgs_size),\n",
    "            transforms.RandAugment(),\n",
    "            transforms.ToTensor(),\n",
    "            transforms.Normalize((0.485, 0.456, 0.406), (0.229, 0.224, 0.225))\n",
    "        ])\n",
    "        \n",
    "        img = transform(img)\n",
    "        img = img.float()\n",
    "        \n",
    "        mask = transforms.Resize(self.imgs_size)(mask)\n",
    "        mask = torch.tensor(np.array(mask))\n",
    "        mask = mask.long()\n",
    "        \n",
    "        return img, mask"
   ]
  },
  {
   "cell_type": "code",
   "execution_count": 87,
   "id": "23ca1b84",
   "metadata": {
    "execution": {
     "iopub.execute_input": "2023-01-19T11:17:31.377951Z",
     "iopub.status.busy": "2023-01-19T11:17:31.377546Z",
     "iopub.status.idle": "2023-01-19T11:17:31.392931Z",
     "shell.execute_reply": "2023-01-19T11:17:31.391693Z",
     "shell.execute_reply.started": "2023-01-19T11:17:31.377918Z"
    }
   },
   "outputs": [],
   "source": [
    "train_dataset = SegmentationDataset(original_images_path, images_semantic_path)\n",
    "validation_dataset = SegmentationDataset(original_images_path, images_semantic_path, dataset_type='validation')\n",
    "\n",
    "train_loader = DataLoader(train_dataset, batch_size=train_batch_size, shuffle=True)\n",
    "valid_loader = DataLoader(validation_dataset, batch_size=valid_batch_size, shuffle=True)"
   ]
  },
  {
   "cell_type": "markdown",
   "id": "ae80e8ce",
   "metadata": {},
   "source": [
    "### Создадим модель"
   ]
  },
  {
   "cell_type": "code",
   "execution_count": 88,
   "id": "7aa1c0bb",
   "metadata": {
    "execution": {
     "iopub.execute_input": "2023-01-19T11:17:33.026394Z",
     "iopub.status.busy": "2023-01-19T11:17:33.026035Z",
     "iopub.status.idle": "2023-01-19T11:17:33.218632Z",
     "shell.execute_reply": "2023-01-19T11:17:33.217517Z",
     "shell.execute_reply.started": "2023-01-19T11:17:33.026363Z"
    }
   },
   "outputs": [],
   "source": [
    "model = smp.Unet('mobilenet_v2', encoder_weights='imagenet', classes=num_of_classes)\n",
    "\n",
    "model.segmentation_head = SegmentationHead(\n",
    "                    in_channels=16,\n",
    "                    out_channels=num_of_classes,\n",
    "                    activation='sigmoid')\n",
    "\n",
    "for param in model.encoder.parameters():\n",
    "    param.requires_grad = False"
   ]
  },
  {
   "cell_type": "markdown",
   "id": "5d334321",
   "metadata": {},
   "source": [
    "### Обучение"
   ]
  },
  {
   "cell_type": "code",
   "execution_count": 89,
   "id": "81389dc3",
   "metadata": {
    "execution": {
     "iopub.execute_input": "2023-01-19T11:17:34.112974Z",
     "iopub.status.busy": "2023-01-19T11:17:34.112592Z",
     "iopub.status.idle": "2023-01-19T11:17:34.119794Z",
     "shell.execute_reply": "2023-01-19T11:17:34.118658Z",
     "shell.execute_reply.started": "2023-01-19T11:17:34.112941Z"
    }
   },
   "outputs": [
    {
     "name": "stdout",
     "output_type": "stream",
     "text": [
      "Using device: cuda\n"
     ]
    }
   ],
   "source": [
    "device = torch.device('cuda') if torch.cuda.is_available() else torch.device('cpu')\n",
    "print('Using device:', device)"
   ]
  },
  {
   "cell_type": "code",
   "execution_count": 90,
   "id": "405724f1",
   "metadata": {
    "execution": {
     "iopub.execute_input": "2023-01-19T11:17:35.506399Z",
     "iopub.status.busy": "2023-01-19T11:17:35.505707Z",
     "iopub.status.idle": "2023-01-19T11:17:35.536450Z",
     "shell.execute_reply": "2023-01-19T11:17:35.535402Z",
     "shell.execute_reply.started": "2023-01-19T11:17:35.506360Z"
    }
   },
   "outputs": [
    {
     "data": {
      "text/plain": [
       "Unet(\n",
       "  (encoder): MobileNetV2Encoder(\n",
       "    (features): Sequential(\n",
       "      (0): ConvNormActivation(\n",
       "        (0): Conv2d(3, 32, kernel_size=(3, 3), stride=(2, 2), padding=(1, 1), bias=False)\n",
       "        (1): BatchNorm2d(32, eps=1e-05, momentum=0.1, affine=True, track_running_stats=True)\n",
       "        (2): ReLU6(inplace=True)\n",
       "      )\n",
       "      (1): InvertedResidual(\n",
       "        (conv): Sequential(\n",
       "          (0): ConvNormActivation(\n",
       "            (0): Conv2d(32, 32, kernel_size=(3, 3), stride=(1, 1), padding=(1, 1), groups=32, bias=False)\n",
       "            (1): BatchNorm2d(32, eps=1e-05, momentum=0.1, affine=True, track_running_stats=True)\n",
       "            (2): ReLU6(inplace=True)\n",
       "          )\n",
       "          (1): Conv2d(32, 16, kernel_size=(1, 1), stride=(1, 1), bias=False)\n",
       "          (2): BatchNorm2d(16, eps=1e-05, momentum=0.1, affine=True, track_running_stats=True)\n",
       "        )\n",
       "      )\n",
       "      (2): InvertedResidual(\n",
       "        (conv): Sequential(\n",
       "          (0): ConvNormActivation(\n",
       "            (0): Conv2d(16, 96, kernel_size=(1, 1), stride=(1, 1), bias=False)\n",
       "            (1): BatchNorm2d(96, eps=1e-05, momentum=0.1, affine=True, track_running_stats=True)\n",
       "            (2): ReLU6(inplace=True)\n",
       "          )\n",
       "          (1): ConvNormActivation(\n",
       "            (0): Conv2d(96, 96, kernel_size=(3, 3), stride=(2, 2), padding=(1, 1), groups=96, bias=False)\n",
       "            (1): BatchNorm2d(96, eps=1e-05, momentum=0.1, affine=True, track_running_stats=True)\n",
       "            (2): ReLU6(inplace=True)\n",
       "          )\n",
       "          (2): Conv2d(96, 24, kernel_size=(1, 1), stride=(1, 1), bias=False)\n",
       "          (3): BatchNorm2d(24, eps=1e-05, momentum=0.1, affine=True, track_running_stats=True)\n",
       "        )\n",
       "      )\n",
       "      (3): InvertedResidual(\n",
       "        (conv): Sequential(\n",
       "          (0): ConvNormActivation(\n",
       "            (0): Conv2d(24, 144, kernel_size=(1, 1), stride=(1, 1), bias=False)\n",
       "            (1): BatchNorm2d(144, eps=1e-05, momentum=0.1, affine=True, track_running_stats=True)\n",
       "            (2): ReLU6(inplace=True)\n",
       "          )\n",
       "          (1): ConvNormActivation(\n",
       "            (0): Conv2d(144, 144, kernel_size=(3, 3), stride=(1, 1), padding=(1, 1), groups=144, bias=False)\n",
       "            (1): BatchNorm2d(144, eps=1e-05, momentum=0.1, affine=True, track_running_stats=True)\n",
       "            (2): ReLU6(inplace=True)\n",
       "          )\n",
       "          (2): Conv2d(144, 24, kernel_size=(1, 1), stride=(1, 1), bias=False)\n",
       "          (3): BatchNorm2d(24, eps=1e-05, momentum=0.1, affine=True, track_running_stats=True)\n",
       "        )\n",
       "      )\n",
       "      (4): InvertedResidual(\n",
       "        (conv): Sequential(\n",
       "          (0): ConvNormActivation(\n",
       "            (0): Conv2d(24, 144, kernel_size=(1, 1), stride=(1, 1), bias=False)\n",
       "            (1): BatchNorm2d(144, eps=1e-05, momentum=0.1, affine=True, track_running_stats=True)\n",
       "            (2): ReLU6(inplace=True)\n",
       "          )\n",
       "          (1): ConvNormActivation(\n",
       "            (0): Conv2d(144, 144, kernel_size=(3, 3), stride=(2, 2), padding=(1, 1), groups=144, bias=False)\n",
       "            (1): BatchNorm2d(144, eps=1e-05, momentum=0.1, affine=True, track_running_stats=True)\n",
       "            (2): ReLU6(inplace=True)\n",
       "          )\n",
       "          (2): Conv2d(144, 32, kernel_size=(1, 1), stride=(1, 1), bias=False)\n",
       "          (3): BatchNorm2d(32, eps=1e-05, momentum=0.1, affine=True, track_running_stats=True)\n",
       "        )\n",
       "      )\n",
       "      (5): InvertedResidual(\n",
       "        (conv): Sequential(\n",
       "          (0): ConvNormActivation(\n",
       "            (0): Conv2d(32, 192, kernel_size=(1, 1), stride=(1, 1), bias=False)\n",
       "            (1): BatchNorm2d(192, eps=1e-05, momentum=0.1, affine=True, track_running_stats=True)\n",
       "            (2): ReLU6(inplace=True)\n",
       "          )\n",
       "          (1): ConvNormActivation(\n",
       "            (0): Conv2d(192, 192, kernel_size=(3, 3), stride=(1, 1), padding=(1, 1), groups=192, bias=False)\n",
       "            (1): BatchNorm2d(192, eps=1e-05, momentum=0.1, affine=True, track_running_stats=True)\n",
       "            (2): ReLU6(inplace=True)\n",
       "          )\n",
       "          (2): Conv2d(192, 32, kernel_size=(1, 1), stride=(1, 1), bias=False)\n",
       "          (3): BatchNorm2d(32, eps=1e-05, momentum=0.1, affine=True, track_running_stats=True)\n",
       "        )\n",
       "      )\n",
       "      (6): InvertedResidual(\n",
       "        (conv): Sequential(\n",
       "          (0): ConvNormActivation(\n",
       "            (0): Conv2d(32, 192, kernel_size=(1, 1), stride=(1, 1), bias=False)\n",
       "            (1): BatchNorm2d(192, eps=1e-05, momentum=0.1, affine=True, track_running_stats=True)\n",
       "            (2): ReLU6(inplace=True)\n",
       "          )\n",
       "          (1): ConvNormActivation(\n",
       "            (0): Conv2d(192, 192, kernel_size=(3, 3), stride=(1, 1), padding=(1, 1), groups=192, bias=False)\n",
       "            (1): BatchNorm2d(192, eps=1e-05, momentum=0.1, affine=True, track_running_stats=True)\n",
       "            (2): ReLU6(inplace=True)\n",
       "          )\n",
       "          (2): Conv2d(192, 32, kernel_size=(1, 1), stride=(1, 1), bias=False)\n",
       "          (3): BatchNorm2d(32, eps=1e-05, momentum=0.1, affine=True, track_running_stats=True)\n",
       "        )\n",
       "      )\n",
       "      (7): InvertedResidual(\n",
       "        (conv): Sequential(\n",
       "          (0): ConvNormActivation(\n",
       "            (0): Conv2d(32, 192, kernel_size=(1, 1), stride=(1, 1), bias=False)\n",
       "            (1): BatchNorm2d(192, eps=1e-05, momentum=0.1, affine=True, track_running_stats=True)\n",
       "            (2): ReLU6(inplace=True)\n",
       "          )\n",
       "          (1): ConvNormActivation(\n",
       "            (0): Conv2d(192, 192, kernel_size=(3, 3), stride=(2, 2), padding=(1, 1), groups=192, bias=False)\n",
       "            (1): BatchNorm2d(192, eps=1e-05, momentum=0.1, affine=True, track_running_stats=True)\n",
       "            (2): ReLU6(inplace=True)\n",
       "          )\n",
       "          (2): Conv2d(192, 64, kernel_size=(1, 1), stride=(1, 1), bias=False)\n",
       "          (3): BatchNorm2d(64, eps=1e-05, momentum=0.1, affine=True, track_running_stats=True)\n",
       "        )\n",
       "      )\n",
       "      (8): InvertedResidual(\n",
       "        (conv): Sequential(\n",
       "          (0): ConvNormActivation(\n",
       "            (0): Conv2d(64, 384, kernel_size=(1, 1), stride=(1, 1), bias=False)\n",
       "            (1): BatchNorm2d(384, eps=1e-05, momentum=0.1, affine=True, track_running_stats=True)\n",
       "            (2): ReLU6(inplace=True)\n",
       "          )\n",
       "          (1): ConvNormActivation(\n",
       "            (0): Conv2d(384, 384, kernel_size=(3, 3), stride=(1, 1), padding=(1, 1), groups=384, bias=False)\n",
       "            (1): BatchNorm2d(384, eps=1e-05, momentum=0.1, affine=True, track_running_stats=True)\n",
       "            (2): ReLU6(inplace=True)\n",
       "          )\n",
       "          (2): Conv2d(384, 64, kernel_size=(1, 1), stride=(1, 1), bias=False)\n",
       "          (3): BatchNorm2d(64, eps=1e-05, momentum=0.1, affine=True, track_running_stats=True)\n",
       "        )\n",
       "      )\n",
       "      (9): InvertedResidual(\n",
       "        (conv): Sequential(\n",
       "          (0): ConvNormActivation(\n",
       "            (0): Conv2d(64, 384, kernel_size=(1, 1), stride=(1, 1), bias=False)\n",
       "            (1): BatchNorm2d(384, eps=1e-05, momentum=0.1, affine=True, track_running_stats=True)\n",
       "            (2): ReLU6(inplace=True)\n",
       "          )\n",
       "          (1): ConvNormActivation(\n",
       "            (0): Conv2d(384, 384, kernel_size=(3, 3), stride=(1, 1), padding=(1, 1), groups=384, bias=False)\n",
       "            (1): BatchNorm2d(384, eps=1e-05, momentum=0.1, affine=True, track_running_stats=True)\n",
       "            (2): ReLU6(inplace=True)\n",
       "          )\n",
       "          (2): Conv2d(384, 64, kernel_size=(1, 1), stride=(1, 1), bias=False)\n",
       "          (3): BatchNorm2d(64, eps=1e-05, momentum=0.1, affine=True, track_running_stats=True)\n",
       "        )\n",
       "      )\n",
       "      (10): InvertedResidual(\n",
       "        (conv): Sequential(\n",
       "          (0): ConvNormActivation(\n",
       "            (0): Conv2d(64, 384, kernel_size=(1, 1), stride=(1, 1), bias=False)\n",
       "            (1): BatchNorm2d(384, eps=1e-05, momentum=0.1, affine=True, track_running_stats=True)\n",
       "            (2): ReLU6(inplace=True)\n",
       "          )\n",
       "          (1): ConvNormActivation(\n",
       "            (0): Conv2d(384, 384, kernel_size=(3, 3), stride=(1, 1), padding=(1, 1), groups=384, bias=False)\n",
       "            (1): BatchNorm2d(384, eps=1e-05, momentum=0.1, affine=True, track_running_stats=True)\n",
       "            (2): ReLU6(inplace=True)\n",
       "          )\n",
       "          (2): Conv2d(384, 64, kernel_size=(1, 1), stride=(1, 1), bias=False)\n",
       "          (3): BatchNorm2d(64, eps=1e-05, momentum=0.1, affine=True, track_running_stats=True)\n",
       "        )\n",
       "      )\n",
       "      (11): InvertedResidual(\n",
       "        (conv): Sequential(\n",
       "          (0): ConvNormActivation(\n",
       "            (0): Conv2d(64, 384, kernel_size=(1, 1), stride=(1, 1), bias=False)\n",
       "            (1): BatchNorm2d(384, eps=1e-05, momentum=0.1, affine=True, track_running_stats=True)\n",
       "            (2): ReLU6(inplace=True)\n",
       "          )\n",
       "          (1): ConvNormActivation(\n",
       "            (0): Conv2d(384, 384, kernel_size=(3, 3), stride=(1, 1), padding=(1, 1), groups=384, bias=False)\n",
       "            (1): BatchNorm2d(384, eps=1e-05, momentum=0.1, affine=True, track_running_stats=True)\n",
       "            (2): ReLU6(inplace=True)\n",
       "          )\n",
       "          (2): Conv2d(384, 96, kernel_size=(1, 1), stride=(1, 1), bias=False)\n",
       "          (3): BatchNorm2d(96, eps=1e-05, momentum=0.1, affine=True, track_running_stats=True)\n",
       "        )\n",
       "      )\n",
       "      (12): InvertedResidual(\n",
       "        (conv): Sequential(\n",
       "          (0): ConvNormActivation(\n",
       "            (0): Conv2d(96, 576, kernel_size=(1, 1), stride=(1, 1), bias=False)\n",
       "            (1): BatchNorm2d(576, eps=1e-05, momentum=0.1, affine=True, track_running_stats=True)\n",
       "            (2): ReLU6(inplace=True)\n",
       "          )\n",
       "          (1): ConvNormActivation(\n",
       "            (0): Conv2d(576, 576, kernel_size=(3, 3), stride=(1, 1), padding=(1, 1), groups=576, bias=False)\n",
       "            (1): BatchNorm2d(576, eps=1e-05, momentum=0.1, affine=True, track_running_stats=True)\n",
       "            (2): ReLU6(inplace=True)\n",
       "          )\n",
       "          (2): Conv2d(576, 96, kernel_size=(1, 1), stride=(1, 1), bias=False)\n",
       "          (3): BatchNorm2d(96, eps=1e-05, momentum=0.1, affine=True, track_running_stats=True)\n",
       "        )\n",
       "      )\n",
       "      (13): InvertedResidual(\n",
       "        (conv): Sequential(\n",
       "          (0): ConvNormActivation(\n",
       "            (0): Conv2d(96, 576, kernel_size=(1, 1), stride=(1, 1), bias=False)\n",
       "            (1): BatchNorm2d(576, eps=1e-05, momentum=0.1, affine=True, track_running_stats=True)\n",
       "            (2): ReLU6(inplace=True)\n",
       "          )\n",
       "          (1): ConvNormActivation(\n",
       "            (0): Conv2d(576, 576, kernel_size=(3, 3), stride=(1, 1), padding=(1, 1), groups=576, bias=False)\n",
       "            (1): BatchNorm2d(576, eps=1e-05, momentum=0.1, affine=True, track_running_stats=True)\n",
       "            (2): ReLU6(inplace=True)\n",
       "          )\n",
       "          (2): Conv2d(576, 96, kernel_size=(1, 1), stride=(1, 1), bias=False)\n",
       "          (3): BatchNorm2d(96, eps=1e-05, momentum=0.1, affine=True, track_running_stats=True)\n",
       "        )\n",
       "      )\n",
       "      (14): InvertedResidual(\n",
       "        (conv): Sequential(\n",
       "          (0): ConvNormActivation(\n",
       "            (0): Conv2d(96, 576, kernel_size=(1, 1), stride=(1, 1), bias=False)\n",
       "            (1): BatchNorm2d(576, eps=1e-05, momentum=0.1, affine=True, track_running_stats=True)\n",
       "            (2): ReLU6(inplace=True)\n",
       "          )\n",
       "          (1): ConvNormActivation(\n",
       "            (0): Conv2d(576, 576, kernel_size=(3, 3), stride=(2, 2), padding=(1, 1), groups=576, bias=False)\n",
       "            (1): BatchNorm2d(576, eps=1e-05, momentum=0.1, affine=True, track_running_stats=True)\n",
       "            (2): ReLU6(inplace=True)\n",
       "          )\n",
       "          (2): Conv2d(576, 160, kernel_size=(1, 1), stride=(1, 1), bias=False)\n",
       "          (3): BatchNorm2d(160, eps=1e-05, momentum=0.1, affine=True, track_running_stats=True)\n",
       "        )\n",
       "      )\n",
       "      (15): InvertedResidual(\n",
       "        (conv): Sequential(\n",
       "          (0): ConvNormActivation(\n",
       "            (0): Conv2d(160, 960, kernel_size=(1, 1), stride=(1, 1), bias=False)\n",
       "            (1): BatchNorm2d(960, eps=1e-05, momentum=0.1, affine=True, track_running_stats=True)\n",
       "            (2): ReLU6(inplace=True)\n",
       "          )\n",
       "          (1): ConvNormActivation(\n",
       "            (0): Conv2d(960, 960, kernel_size=(3, 3), stride=(1, 1), padding=(1, 1), groups=960, bias=False)\n",
       "            (1): BatchNorm2d(960, eps=1e-05, momentum=0.1, affine=True, track_running_stats=True)\n",
       "            (2): ReLU6(inplace=True)\n",
       "          )\n",
       "          (2): Conv2d(960, 160, kernel_size=(1, 1), stride=(1, 1), bias=False)\n",
       "          (3): BatchNorm2d(160, eps=1e-05, momentum=0.1, affine=True, track_running_stats=True)\n",
       "        )\n",
       "      )\n",
       "      (16): InvertedResidual(\n",
       "        (conv): Sequential(\n",
       "          (0): ConvNormActivation(\n",
       "            (0): Conv2d(160, 960, kernel_size=(1, 1), stride=(1, 1), bias=False)\n",
       "            (1): BatchNorm2d(960, eps=1e-05, momentum=0.1, affine=True, track_running_stats=True)\n",
       "            (2): ReLU6(inplace=True)\n",
       "          )\n",
       "          (1): ConvNormActivation(\n",
       "            (0): Conv2d(960, 960, kernel_size=(3, 3), stride=(1, 1), padding=(1, 1), groups=960, bias=False)\n",
       "            (1): BatchNorm2d(960, eps=1e-05, momentum=0.1, affine=True, track_running_stats=True)\n",
       "            (2): ReLU6(inplace=True)\n",
       "          )\n",
       "          (2): Conv2d(960, 160, kernel_size=(1, 1), stride=(1, 1), bias=False)\n",
       "          (3): BatchNorm2d(160, eps=1e-05, momentum=0.1, affine=True, track_running_stats=True)\n",
       "        )\n",
       "      )\n",
       "      (17): InvertedResidual(\n",
       "        (conv): Sequential(\n",
       "          (0): ConvNormActivation(\n",
       "            (0): Conv2d(160, 960, kernel_size=(1, 1), stride=(1, 1), bias=False)\n",
       "            (1): BatchNorm2d(960, eps=1e-05, momentum=0.1, affine=True, track_running_stats=True)\n",
       "            (2): ReLU6(inplace=True)\n",
       "          )\n",
       "          (1): ConvNormActivation(\n",
       "            (0): Conv2d(960, 960, kernel_size=(3, 3), stride=(1, 1), padding=(1, 1), groups=960, bias=False)\n",
       "            (1): BatchNorm2d(960, eps=1e-05, momentum=0.1, affine=True, track_running_stats=True)\n",
       "            (2): ReLU6(inplace=True)\n",
       "          )\n",
       "          (2): Conv2d(960, 320, kernel_size=(1, 1), stride=(1, 1), bias=False)\n",
       "          (3): BatchNorm2d(320, eps=1e-05, momentum=0.1, affine=True, track_running_stats=True)\n",
       "        )\n",
       "      )\n",
       "      (18): ConvNormActivation(\n",
       "        (0): Conv2d(320, 1280, kernel_size=(1, 1), stride=(1, 1), bias=False)\n",
       "        (1): BatchNorm2d(1280, eps=1e-05, momentum=0.1, affine=True, track_running_stats=True)\n",
       "        (2): ReLU6(inplace=True)\n",
       "      )\n",
       "    )\n",
       "  )\n",
       "  (decoder): UnetDecoder(\n",
       "    (center): Identity()\n",
       "    (blocks): ModuleList(\n",
       "      (0): DecoderBlock(\n",
       "        (conv1): Conv2dReLU(\n",
       "          (0): Conv2d(1376, 256, kernel_size=(3, 3), stride=(1, 1), padding=(1, 1), bias=False)\n",
       "          (1): BatchNorm2d(256, eps=1e-05, momentum=0.1, affine=True, track_running_stats=True)\n",
       "          (2): ReLU(inplace=True)\n",
       "        )\n",
       "        (attention1): Attention(\n",
       "          (attention): Identity()\n",
       "        )\n",
       "        (conv2): Conv2dReLU(\n",
       "          (0): Conv2d(256, 256, kernel_size=(3, 3), stride=(1, 1), padding=(1, 1), bias=False)\n",
       "          (1): BatchNorm2d(256, eps=1e-05, momentum=0.1, affine=True, track_running_stats=True)\n",
       "          (2): ReLU(inplace=True)\n",
       "        )\n",
       "        (attention2): Attention(\n",
       "          (attention): Identity()\n",
       "        )\n",
       "      )\n",
       "      (1): DecoderBlock(\n",
       "        (conv1): Conv2dReLU(\n",
       "          (0): Conv2d(288, 128, kernel_size=(3, 3), stride=(1, 1), padding=(1, 1), bias=False)\n",
       "          (1): BatchNorm2d(128, eps=1e-05, momentum=0.1, affine=True, track_running_stats=True)\n",
       "          (2): ReLU(inplace=True)\n",
       "        )\n",
       "        (attention1): Attention(\n",
       "          (attention): Identity()\n",
       "        )\n",
       "        (conv2): Conv2dReLU(\n",
       "          (0): Conv2d(128, 128, kernel_size=(3, 3), stride=(1, 1), padding=(1, 1), bias=False)\n",
       "          (1): BatchNorm2d(128, eps=1e-05, momentum=0.1, affine=True, track_running_stats=True)\n",
       "          (2): ReLU(inplace=True)\n",
       "        )\n",
       "        (attention2): Attention(\n",
       "          (attention): Identity()\n",
       "        )\n",
       "      )\n",
       "      (2): DecoderBlock(\n",
       "        (conv1): Conv2dReLU(\n",
       "          (0): Conv2d(152, 64, kernel_size=(3, 3), stride=(1, 1), padding=(1, 1), bias=False)\n",
       "          (1): BatchNorm2d(64, eps=1e-05, momentum=0.1, affine=True, track_running_stats=True)\n",
       "          (2): ReLU(inplace=True)\n",
       "        )\n",
       "        (attention1): Attention(\n",
       "          (attention): Identity()\n",
       "        )\n",
       "        (conv2): Conv2dReLU(\n",
       "          (0): Conv2d(64, 64, kernel_size=(3, 3), stride=(1, 1), padding=(1, 1), bias=False)\n",
       "          (1): BatchNorm2d(64, eps=1e-05, momentum=0.1, affine=True, track_running_stats=True)\n",
       "          (2): ReLU(inplace=True)\n",
       "        )\n",
       "        (attention2): Attention(\n",
       "          (attention): Identity()\n",
       "        )\n",
       "      )\n",
       "      (3): DecoderBlock(\n",
       "        (conv1): Conv2dReLU(\n",
       "          (0): Conv2d(80, 32, kernel_size=(3, 3), stride=(1, 1), padding=(1, 1), bias=False)\n",
       "          (1): BatchNorm2d(32, eps=1e-05, momentum=0.1, affine=True, track_running_stats=True)\n",
       "          (2): ReLU(inplace=True)\n",
       "        )\n",
       "        (attention1): Attention(\n",
       "          (attention): Identity()\n",
       "        )\n",
       "        (conv2): Conv2dReLU(\n",
       "          (0): Conv2d(32, 32, kernel_size=(3, 3), stride=(1, 1), padding=(1, 1), bias=False)\n",
       "          (1): BatchNorm2d(32, eps=1e-05, momentum=0.1, affine=True, track_running_stats=True)\n",
       "          (2): ReLU(inplace=True)\n",
       "        )\n",
       "        (attention2): Attention(\n",
       "          (attention): Identity()\n",
       "        )\n",
       "      )\n",
       "      (4): DecoderBlock(\n",
       "        (conv1): Conv2dReLU(\n",
       "          (0): Conv2d(32, 16, kernel_size=(3, 3), stride=(1, 1), padding=(1, 1), bias=False)\n",
       "          (1): BatchNorm2d(16, eps=1e-05, momentum=0.1, affine=True, track_running_stats=True)\n",
       "          (2): ReLU(inplace=True)\n",
       "        )\n",
       "        (attention1): Attention(\n",
       "          (attention): Identity()\n",
       "        )\n",
       "        (conv2): Conv2dReLU(\n",
       "          (0): Conv2d(16, 16, kernel_size=(3, 3), stride=(1, 1), padding=(1, 1), bias=False)\n",
       "          (1): BatchNorm2d(16, eps=1e-05, momentum=0.1, affine=True, track_running_stats=True)\n",
       "          (2): ReLU(inplace=True)\n",
       "        )\n",
       "        (attention2): Attention(\n",
       "          (attention): Identity()\n",
       "        )\n",
       "      )\n",
       "    )\n",
       "  )\n",
       "  (segmentation_head): SegmentationHead(\n",
       "    (0): Conv2d(16, 23, kernel_size=(3, 3), stride=(1, 1), padding=(1, 1))\n",
       "    (1): Identity()\n",
       "    (2): Activation(\n",
       "      (activation): Sigmoid()\n",
       "    )\n",
       "  )\n",
       ")"
      ]
     },
     "execution_count": 90,
     "metadata": {},
     "output_type": "execute_result"
    }
   ],
   "source": [
    "model.to(device)"
   ]
  },
  {
   "cell_type": "code",
   "execution_count": 91,
   "id": "f3011fff",
   "metadata": {
    "execution": {
     "iopub.execute_input": "2023-01-19T11:17:40.862113Z",
     "iopub.status.busy": "2023-01-19T11:17:40.861711Z",
     "iopub.status.idle": "2023-01-19T11:17:40.869162Z",
     "shell.execute_reply": "2023-01-19T11:17:40.867926Z",
     "shell.execute_reply.started": "2023-01-19T11:17:40.862080Z"
    }
   },
   "outputs": [],
   "source": [
    "loss_fn = CrossEntropyLoss()\n",
    "\n",
    "optimizer = torch.optim.Adam(model.parameters(), lr=learning_rate)"
   ]
  },
  {
   "cell_type": "code",
   "execution_count": 92,
   "id": "43234e5c",
   "metadata": {
    "execution": {
     "iopub.execute_input": "2023-01-19T11:17:43.544666Z",
     "iopub.status.busy": "2023-01-19T11:17:43.544317Z",
     "iopub.status.idle": "2023-01-19T11:17:43.558136Z",
     "shell.execute_reply": "2023-01-19T11:17:43.556756Z",
     "shell.execute_reply.started": "2023-01-19T11:17:43.544637Z"
    }
   },
   "outputs": [],
   "source": [
    "train_val_curve = {\n",
    "    'train_loss' : [],\n",
    "    'train_accuracy' : [],\n",
    "    'val_loss' : [],\n",
    "    'val_accuracy' : []\n",
    "}\n",
    "\n",
    "def pixelwise_accuracy(pred, mask):\n",
    "    pos = torch.eq(pred,mask).int()\n",
    "    return float(torch.sum(pos) / torch.numel(pos))\n",
    "\n",
    "\n",
    "def training_loop(dataloader, model, loss_fn, optimizer, epoch):\n",
    "    size = len(dataloader.dataset)\n",
    "    num_batches = len(dataloader)\n",
    "    total_loss, total_accuracy = 0, 0\n",
    "    for batch, (img_batch, mask_batch) in enumerate(dataloader, start=1):\n",
    "        img_batch = img_batch.to(device) \n",
    "        mask_batch = mask_batch.to(device)\n",
    "        \n",
    "        output_batch = model(img_batch)\n",
    "        training_loss = loss_fn(output_batch, mask_batch)\n",
    "        pred = F.softmax(output_batch, dim=1).argmax(dim=1)\n",
    "        accuracy = pixelwise_accuracy(pred, mask_batch)\n",
    "        \n",
    "        optimizer.zero_grad()\n",
    "        training_loss.backward()\n",
    "        optimizer.step()\n",
    "        \n",
    "        total_loss += training_loss.item()\n",
    "        total_accuracy += accuracy\n",
    "        \n",
    "        print(f\"training loss: {(training_loss):.3f} | training accuracy : {100*(accuracy):.3f} % [{batch*train_batch_size}/{size}]\")\n",
    "        \n",
    "    train_val_curve['train_loss'].append(total_loss/num_batches)\n",
    "    train_val_curve['train_accuracy'].append(100*(total_accuracy/num_batches))\n",
    "            \n",
    "def validation_loop(dataloader, model, loss_fn):\n",
    "    num_batches = len(dataloader)\n",
    "    val_loss, accuracy = 0, 0\n",
    "    \n",
    "    with torch.no_grad():\n",
    "        for img_batch, mask_batch in dataloader:\n",
    "            img_batch = img_batch.to(device) \n",
    "            mask_batch = mask_batch.to(device)\n",
    "            output_batch = model(img_batch)\n",
    "            pred = F.softmax(output_batch, dim=1).argmax(dim=1)\n",
    "            \n",
    "            accuracy += pixelwise_accuracy(pred, mask_batch)\n",
    "            val_loss += loss_fn(output_batch, mask_batch).item()\n",
    "            \n",
    "    val_loss /= num_batches\n",
    "    accuracy /= num_batches\n",
    "    \n",
    "    train_val_curve['val_loss'].append(val_loss)\n",
    "    train_val_curve['val_accuracy'].append(100*accuracy)\n",
    "    \n",
    "    print(f\"validation loss: {(val_loss):.3f} | validation accuracy : {100*(accuracy):.3f} %\")\n",
    "    \n",
    "    return (val_loss, accuracy)"
   ]
  },
  {
   "cell_type": "code",
   "execution_count": 93,
   "id": "d5bdbc43",
   "metadata": {
    "execution": {
     "iopub.execute_input": "2023-01-19T11:17:44.425440Z",
     "iopub.status.busy": "2023-01-19T11:17:44.425050Z",
     "iopub.status.idle": "2023-01-19T11:25:55.393289Z",
     "shell.execute_reply": "2023-01-19T11:25:55.392362Z",
     "shell.execute_reply.started": "2023-01-19T11:17:44.425407Z"
    }
   },
   "outputs": [
    {
     "name": "stderr",
     "output_type": "stream",
     "text": [
      "  0%|          | 0/10 [00:00<?, ?it/s]"
     ]
    },
    {
     "name": "stdout",
     "output_type": "stream",
     "text": [
      "Epoch : 1 / 10\n",
      "training loss: 3.142 | training accuracy : 3.052 % [16/48]\n",
      "training loss: 3.013 | training accuracy : 17.343 % [32/48]\n",
      "training loss: 2.910 | training accuracy : 15.212 % [48/48]\n"
     ]
    },
    {
     "name": "stderr",
     "output_type": "stream",
     "text": [
      " 10%|█         | 1/10 [00:48<07:20, 48.99s/it]"
     ]
    },
    {
     "name": "stdout",
     "output_type": "stream",
     "text": [
      "validation loss: 2.772 | validation accuracy : 20.181 %\n",
      "Epoch : 2 / 10\n",
      "training loss: 2.789 | training accuracy : 16.640 % [16/48]\n",
      "training loss: 2.743 | training accuracy : 28.136 % [32/48]\n",
      "training loss: 2.739 | training accuracy : 23.784 % [48/48]\n"
     ]
    },
    {
     "name": "stderr",
     "output_type": "stream",
     "text": [
      " 20%|██        | 2/10 [01:37<06:30, 48.82s/it]"
     ]
    },
    {
     "name": "stdout",
     "output_type": "stream",
     "text": [
      "validation loss: 2.659 | validation accuracy : 26.891 %\n",
      "Epoch : 3 / 10\n",
      "training loss: 2.674 | training accuracy : 24.867 % [16/48]\n",
      "training loss: 2.703 | training accuracy : 28.452 % [32/48]\n",
      "training loss: 2.689 | training accuracy : 36.840 % [48/48]\n"
     ]
    },
    {
     "name": "stderr",
     "output_type": "stream",
     "text": [
      " 30%|███       | 3/10 [02:26<05:41, 48.83s/it]"
     ]
    },
    {
     "name": "stdout",
     "output_type": "stream",
     "text": [
      "validation loss: 2.644 | validation accuracy : 37.718 %\n",
      "Epoch : 4 / 10\n",
      "training loss: 2.679 | training accuracy : 35.595 % [16/48]\n",
      "training loss: 2.708 | training accuracy : 33.171 % [32/48]\n",
      "training loss: 2.647 | training accuracy : 34.323 % [48/48]\n"
     ]
    },
    {
     "name": "stderr",
     "output_type": "stream",
     "text": [
      " 40%|████      | 4/10 [03:16<04:55, 49.29s/it]"
     ]
    },
    {
     "name": "stdout",
     "output_type": "stream",
     "text": [
      "validation loss: 2.643 | validation accuracy : 37.943 %\n",
      "Epoch : 5 / 10\n",
      "training loss: 2.677 | training accuracy : 40.709 % [16/48]\n",
      "training loss: 2.676 | training accuracy : 33.578 % [32/48]\n",
      "training loss: 2.675 | training accuracy : 28.999 % [48/48]\n"
     ]
    },
    {
     "name": "stderr",
     "output_type": "stream",
     "text": [
      " 50%|█████     | 5/10 [04:05<04:05, 49.18s/it]"
     ]
    },
    {
     "name": "stdout",
     "output_type": "stream",
     "text": [
      "validation loss: 2.645 | validation accuracy : 37.945 %\n",
      "Epoch : 6 / 10\n",
      "training loss: 2.679 | training accuracy : 34.049 % [16/48]\n",
      "training loss: 2.688 | training accuracy : 33.804 % [32/48]\n",
      "training loss: 2.653 | training accuracy : 35.436 % [48/48]\n"
     ]
    },
    {
     "name": "stderr",
     "output_type": "stream",
     "text": [
      " 60%|██████    | 6/10 [04:54<03:17, 49.27s/it]"
     ]
    },
    {
     "name": "stdout",
     "output_type": "stream",
     "text": [
      "validation loss: 2.642 | validation accuracy : 37.945 %\n",
      "Epoch : 7 / 10\n",
      "training loss: 2.662 | training accuracy : 37.507 % [16/48]\n",
      "training loss: 2.626 | training accuracy : 30.810 % [32/48]\n",
      "training loss: 2.727 | training accuracy : 34.973 % [48/48]\n"
     ]
    },
    {
     "name": "stderr",
     "output_type": "stream",
     "text": [
      " 70%|███████   | 7/10 [05:44<02:27, 49.24s/it]"
     ]
    },
    {
     "name": "stdout",
     "output_type": "stream",
     "text": [
      "validation loss: 2.640 | validation accuracy : 37.945 %\n",
      "Epoch : 8 / 10\n",
      "training loss: 2.690 | training accuracy : 34.897 % [16/48]\n",
      "training loss: 2.676 | training accuracy : 30.280 % [32/48]\n",
      "training loss: 2.642 | training accuracy : 38.113 % [48/48]\n"
     ]
    },
    {
     "name": "stderr",
     "output_type": "stream",
     "text": [
      " 80%|████████  | 8/10 [06:33<01:38, 49.16s/it]"
     ]
    },
    {
     "name": "stdout",
     "output_type": "stream",
     "text": [
      "validation loss: 2.645 | validation accuracy : 37.938 %\n",
      "Epoch : 9 / 10\n",
      "training loss: 2.675 | training accuracy : 27.108 % [16/48]\n",
      "training loss: 2.710 | training accuracy : 36.487 % [32/48]\n",
      "training loss: 2.605 | training accuracy : 39.486 % [48/48]\n"
     ]
    },
    {
     "name": "stderr",
     "output_type": "stream",
     "text": [
      " 90%|█████████ | 9/10 [07:21<00:49, 49.04s/it]"
     ]
    },
    {
     "name": "stdout",
     "output_type": "stream",
     "text": [
      "validation loss: 2.639 | validation accuracy : 37.880 %\n",
      "Epoch : 10 / 10\n",
      "training loss: 2.650 | training accuracy : 39.278 % [16/48]\n",
      "training loss: 2.649 | training accuracy : 29.935 % [32/48]\n",
      "training loss: 2.669 | training accuracy : 34.090 % [48/48]\n"
     ]
    },
    {
     "name": "stderr",
     "output_type": "stream",
     "text": [
      "100%|██████████| 10/10 [08:10<00:00, 49.09s/it]"
     ]
    },
    {
     "name": "stdout",
     "output_type": "stream",
     "text": [
      "validation loss: 2.646 | validation accuracy : 37.891 %\n",
      "Done!\n"
     ]
    },
    {
     "name": "stderr",
     "output_type": "stream",
     "text": [
      "\n"
     ]
    }
   ],
   "source": [
    "valid_loss = float('inf')\n",
    "valid_accuracy = 0\n",
    "patience_count = 0\n",
    "x_epoch = epoch_count\n",
    "\n",
    "for epoch_num in tqdm(range(1, epoch_count+1)):\n",
    "    \n",
    "    print(f\"Epoch : {epoch_num} / {epoch_count}\")\n",
    "    training_loop(train_loader, model, loss_fn, optimizer, epoch_num)\n",
    "    cur_val_loss, cur_accuracy = validation_loop(valid_loader, model, loss_fn)\n",
    "    \n",
    "    if cur_accuracy > valid_accuracy:\n",
    "        valid_accuracy = cur_accuracy\n",
    "        torch.save(model, \"./entire_model.pt\")\n",
    "    \n",
    "    if cur_val_loss < valid_loss:\n",
    "        valid_loss = cur_val_loss\n",
    "        patience_count = 0\n",
    "    else:\n",
    "        patience_count += 1\n",
    "    \n",
    "    if patience_count == early_stopping_patience:\n",
    "        x_epoch = epoch_count\n",
    "        print(f\"Early stopping: best validation loss = {(valid_loss):.3f}\")\n",
    "        break\n",
    "        \n",
    "print(\"Done!\")    "
   ]
  },
  {
   "cell_type": "code",
   "execution_count": 94,
   "id": "716f11cf",
   "metadata": {
    "execution": {
     "iopub.execute_input": "2023-01-19T11:26:01.371322Z",
     "iopub.status.busy": "2023-01-19T11:26:01.370959Z",
     "iopub.status.idle": "2023-01-19T11:26:01.682704Z",
     "shell.execute_reply": "2023-01-19T11:26:01.681746Z",
     "shell.execute_reply.started": "2023-01-19T11:26:01.371293Z"
    }
   },
   "outputs": [
    {
     "data": {
      "image/png": "[encoded data removed]",
      "text/plain": [
       "<Figure size 1296x432 with 2 Axes>"
      ]
     },
     "metadata": {
      "needs_background": "light"
     },
     "output_type": "display_data"
    }
   ],
   "source": [
    "def draw_curve(x_epoch):\n",
    "    x_epoch = range(1, x_epoch+1)\n",
    "    fig = plt.figure(figsize=(18,6))\n",
    "    ax0 = fig.add_subplot(121, title=\"Loss\", xlabel='Number of epoch')\n",
    "    ax1 = fig.add_subplot(122, title=\"Accuracy\", xlabel='Number of epoch', ylabel='Percent')\n",
    "    ax0.plot(x_epoch, train_val_curve['train_loss'], 'bo-', label='train')\n",
    "    ax0.plot(x_epoch, train_val_curve['val_loss'], 'ro-', label='val')\n",
    "    ax1.plot(x_epoch, train_val_curve['train_accuracy'], 'bo-', label='train')\n",
    "    ax1.plot(x_epoch, train_val_curve['val_accuracy'], 'ro-', label='val')\n",
    "    plt.show()\n",
    "\n",
    "draw_curve(epoch_count)"
   ]
  },
  {
   "cell_type": "code",
   "execution_count": null,
   "id": "79b1a492",
   "metadata": {},
   "outputs": [],
   "source": []
  }
 ],
 "metadata": {
  "kernelspec": {
   "display_name": "Python 3 (ipykernel)",
   "language": "python",
   "name": "python3"
  },
  "language_info": {
   "codemirror_mode": {
    "name": "ipython",
    "version": 3
   },
   "file_extension": ".py",
   "mimetype": "text/x-python",
   "name": "python",
   "nbconvert_exporter": "python",
   "pygments_lexer": "ipython3",
   "version": "3.9.7"
  }
 },
 "nbformat": 4,
 "nbformat_minor": 5
}
